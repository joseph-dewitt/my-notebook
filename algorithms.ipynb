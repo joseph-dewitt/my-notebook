{
 "cells": [
  {
   "cell_type": "markdown",
   "metadata": {},
   "source": [
    "# Algorithms\n",
    "\n",
    "## Types\n",
    "Sorting  \n",
    "Searching\n",
    "\n",
    "## Data Structures\n",
    "[Stack](#section2)  \n",
    "Queue  \n",
    "List  \n",
    "Linked List  \n",
    "Tree  \n",
    "Matrix  "
   ]
  },
  {
   "cell_type": "markdown",
   "metadata": {},
   "source": [
    "---\n",
    "<a id='searching'></a>\n",
    "## Searching  \n",
    "\n",
    "### Linear  \n",
    "\n"
   ]
  },
  {
   "cell_type": "code",
   "execution_count": 2,
   "metadata": {},
   "outputs": [
    {
     "name": "stdout",
     "output_type": "stream",
     "text": [
      "0\n",
      "1\n",
      "2\n",
      "3\n"
     ]
    }
   ],
   "source": [
    "for i in range(0,4):\n",
    "    print(i)"
   ]
  },
  {
   "cell_type": "markdown",
   "metadata": {},
   "source": [
    "### Binary"
   ]
  },
  {
   "cell_type": "markdown",
   "metadata": {},
   "source": [
    "---\n",
    "<a id='sorting'></a>\n",
    "## Sorting\n",
    "\n",
    "Bubble  \n",
    "Merge  \n",
    "Heapsort  \n",
    "Quicksort  \n",
    "\n",
    "**Quicksort** works via the divide-and-conquer method. It recursively divides the input array and sorts each part. As two parts are arranged back together, the algorithm can take advantage of the fact that each part is already sorted. Thus, when comparing the first entry of two subarrays, we know it's comparing the *smallest* entries of each subarray."
   ]
  },
  {
   "cell_type": "code",
   "execution_count": 3,
   "metadata": {
    "scrolled": true
   },
   "outputs": [
    {
     "name": "stdout",
     "output_type": "stream",
     "text": [
      "[2, 6, 3, 1, 4, 7, 8, 5]\n",
      "[1, 2, 3, 4, 5, 6, 7, 8]\n"
     ]
    }
   ],
   "source": [
    "# QUICKSORT\n",
    "\n",
    "import random\n",
    "\n",
    "list = random.sample(range(1,9), 8)\n",
    "\n",
    "# I initally thought to write a little swap function to use in this algorithm\n",
    "def swap(x, y):\n",
    "    x, y = y, x\n",
    "# This doesn't work!\n",
    "# Why? This is because object references are passed by value.\n",
    "# When you reassign a variable in a function, you're reassigning a reference,\n",
    "# not the object that was passed within it.\n",
    "\n",
    "# So, how do we make it work?\n",
    "# Luckily, we're working with a list! That's a mutable object!\n",
    "def swap(list, x, y):\n",
    "    list[x], list[y] = list[y], list[x]\n",
    "\n",
    "def quicksort(list, p, r):\n",
    "    if p<r:\n",
    "        q = partition(list, p, r)\n",
    "        quicksort(list,p,q-1)\n",
    "        quicksort(list,q+1,r)\n",
    "\n",
    "def partition(list,p,r):\n",
    "    i = p - 1\n",
    "    for j in range(p, r):\n",
    "        if (list[j] <= list[r]):\n",
    "            i = i + 1\n",
    "            swap(list, i, j)\n",
    "    swap(list, i+1, r)\n",
    "    return i+1\n",
    "\n",
    "print(list)\n",
    "\n",
    "quicksort(list, 0, len(list)-1)\n",
    "\n",
    "print(list)"
   ]
  },
  {
   "cell_type": "markdown",
   "metadata": {},
   "source": [
    "# How it works\n",
    "\n",
    "Quicksort is started by calling `quicksort()` using 0 and the last index (not the length!) as paramaters. It begins by checking whether the subarray has only one element, `if p<r:`."
   ]
  },
  {
   "cell_type": "markdown",
   "metadata": {},
   "source": [
    "### Data Structures"
   ]
  }
 ],
 "metadata": {
  "kernelspec": {
   "display_name": "Python 3",
   "language": "python",
   "name": "python3"
  },
  "language_info": {
   "codemirror_mode": {
    "name": "ipython",
    "version": 3
   },
   "file_extension": ".py",
   "mimetype": "text/x-python",
   "name": "python",
   "nbconvert_exporter": "python",
   "pygments_lexer": "ipython3",
   "version": "3.7.1"
  }
 },
 "nbformat": 4,
 "nbformat_minor": 2
}
