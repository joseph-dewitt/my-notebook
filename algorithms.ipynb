{
  "cells": [
    {
      "metadata": {},
      "cell_type": "markdown",
      "source": "# Algorithms\n\n## Types\nSorting  \nSearching\n\n## Data Structures\n[Stack](#section2)  \nQueue  \nList  \nLinked List  \nTree  \nMatrix  "
    },
    {
      "metadata": {},
      "cell_type": "markdown",
      "source": "---\n<a id='searching'></a>\n## Searching  \n\n### Linear  \n\n"
    },
    {
      "metadata": {
        "trusted": false
      },
      "cell_type": "code",
      "source": "",
      "execution_count": null,
      "outputs": []
    },
    {
      "metadata": {},
      "cell_type": "markdown",
      "source": "### Binary"
    },
    {
      "metadata": {},
      "cell_type": "markdown",
      "source": "---\n<a id='sorting'></a>\n## Sorting\n\nBubble  \nMerge  \nHeapsort  \nQuicksort  \n\n**Quicksort** works via the divide-and-conquer method. It recursively divides the input array and sorts each part. As two parts are arranged back together, the algorithm can take advantage of the fact that each part is already sorted. Thus, when comparing the first entry of two subarrays, we know it's comparing the *smallest* entries of each subarray."
    },
    {
      "metadata": {
        "trusted": true
      },
      "cell_type": "code",
      "source": "# QUICKSORT\n\nimport random\n\nlist = random.sample(range(1,6), 5)\n\nprint(list)\nprint(len(list))\n\ni = random.randint(1,100)\n\n# I initally thought to write a little swap function to use in this algorithm\ndef swap(x, y):\n    print(x, y)\n    x, y = y, x\n    print(x, y)\n# This doesn't work!\n# Why? This is because object references are passed by value.\n# When you reassign a variable in a function, you're reassigning a reference,\n# not the object that was passed within it.\n\n# So, how do we make it work?\n# Luckily, we're working with a list! That's a mutable type!\ndef swap(list, x, y):\n    print(list[x], list[y])\n    list[x], list[y] = list[y], list[x]\n    print(list[x], list[y])\n\ndef quicksort(list, p, r):\n    if p<r:\n        q = partition(list, p, r)\n        quicksort(list,p,q-1)\n        quicksort(list,q+1,r)\n\ndef partition(list,p,r):\n    print(list)\n    x = list[r]\n    i = p - 1\n    for j in range(p, r):\n        if (list[j] <= x):\n            i = i + 1\n            swap(list, i, j)\n    swap(list, i+1, r)\n    return i+1\n\nquicksort(list, 0, len(list)-1)\n\nprint(list)",
      "execution_count": 7,
      "outputs": [
        {
          "output_type": "stream",
          "text": "[2, 3, 4, 5, 1]\n5\n[2, 3, 4, 5, 1]\n2 1\n1 2\n[1, 3, 4, 5, 2]\n3 2\n2 3\n[1, 2, 4, 5, 3]\n4 3\n3 4\n[1, 2, 3, 5, 4]\n5 4\n4 5\n[1, 2, 3, 4, 5]\n",
          "name": "stdout"
        }
      ]
    },
    {
      "metadata": {},
      "cell_type": "markdown",
      "source": "### Data Structures"
    }
  ],
  "metadata": {
    "kernelspec": {
      "name": "python3",
      "display_name": "Python 3",
      "language": "python"
    },
    "language_info": {
      "mimetype": "text/x-python",
      "nbconvert_exporter": "python",
      "name": "python",
      "pygments_lexer": "ipython3",
      "version": "3.5.4",
      "file_extension": ".py",
      "codemirror_mode": {
        "version": 3,
        "name": "ipython"
      }
    }
  },
  "nbformat": 4,
  "nbformat_minor": 2
}