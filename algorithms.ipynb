{
  "cells": [
    {
      "metadata": {},
      "cell_type": "markdown",
      "source": "# Algorithms\n\n## Types\nSorting  \nSearching\n\n## Data Structures\n[Stack](#section2)  \nQueue  \nList  \nLinked List  \nTree  \nMatrix  "
    },
    {
      "metadata": {},
      "cell_type": "markdown",
      "source": "---\n<a id='searching'></a>\n## Searching  \n\n### Linear  \n\n"
    },
    {
      "metadata": {
        "trusted": true
      },
      "cell_type": "code",
      "source": "for i in range(0,4):\n    print(i)",
      "execution_count": null,
      "outputs": []
    },
    {
      "metadata": {},
      "cell_type": "markdown",
      "source": "### Binary"
    },
    {
      "metadata": {},
      "cell_type": "markdown",
      "source": "---\n<a id='sorting'></a>\n## Sorting\n\nBubble  \nMerge  \nHeapsort  \nQuicksort  \n\n**Quicksort** works via the divide-and-conquer method. It recursively divides the input array and sorts each part. The key to the quicksort is the **pivot**. This can be any element of the subarray, in the written example it's the last of the subarray. With each recursive call, the algorithm uses one particular element to compare all the other elements to, and will simply move the elements less than the pivot to the front of the array. After checking them, it then moves the pivot to the end of that subarray, and calls itself again on the two subarrays on either side of the array."
    },
    {
      "metadata": {
        "scrolled": true,
        "trusted": true
      },
      "cell_type": "code",
      "source": "# QUICKSORT\n\nimport random\n\nlist = random.sample(range(1,9), 8)\n\n# I initally thought to write a little swap function to use in this algorithm.\ndef swap(x, y):\n    x, y = y, x\n# This doesn't work!\n# Why? This is because object references are passed by value.\n# When you reassign a variable in a function, you're reassigning a reference,\n# not the object that was passed within it.\n\n# So, how do we make it work?\n# Luckily, we're working with a list! That's a mutable object!\ndef swap(list, x, y):\n    list[x], list[y] = list[y], list[x]\n\ndef quicksort(list, p, r):\n    if p<r:\n        q = partition(list, p, r)\n        quicksort(list,p,q-1)\n        quicksort(list,q+1,r)\n\ndef partition(list,p,r):\n    i = p - 1\n    for j in range(p, r):\n        if (list[j] <= list[r]):\n            i += 1\n            swap(list, i, j)\n    swap(list, i+1, r)\n    return i+1\n\nprint(list)\n\nquicksort(list, 0, len(list) - 1)\n\nprint(list)",
      "execution_count": null,
      "outputs": []
    },
    {
      "metadata": {},
      "cell_type": "markdown",
      "source": "## How it works\n\n**Quicksort** is started by calling `quicksort()` using the `list`, `0`, and `len(list)-1`(the last index, not the length!), as the respective parameters. It begins by checking whether the sarray has only one element, `if p<r:`. After that we get to the real meat-n-potatoes of it when we call `partition()` with the same parameters as `quicksort` was called with.\n\nWe begin by setting the variable `i` as one less than `p`, and then start a `for` loop, using `j` from `p` to `r`.  \n`r` is the index of the *pivot* element, which the loop is going to compare all preceding elements to.  \n`i` denotes the index of the end of the subarray of elements which are *less* than the pivot element.  \n`p` is the first index of the subarray partition is currently called on.  \n`j` is the index of the element to be compared to the pivot.\n\nIn the first line of the `for` loop, we check if `list[j] <= list[r]`, that is, if the current element is less-than-or-equal-to the pivot. If it is, then we increment `i` by one, then swap the current element with the one at `i`.  \n**Note:** if this is the first pass through the loop, and the element is less than the pivot (`i` is incremented so it's now the same value as `p` and `j`), then the `swap()` essentially does nothing, however `i` is *still* incremented. We didn't move any elements around, but we're still building the subarray of elements less than the pivot!\nWhen it reaches an element greater than the pivot, nothing happens, `i` remains where it is, and the loop moves on to the next element. Thus, at the end of each pass through the loop, `i` denotes the last element of a subarray of element(s) less than the pivot.\n\nIn this fashion, every element that is less than the pivot is moved the the front of the subarray. The last step of `partition()` is to increment `i` one more time, and cap off the subarray with the pivot. We now have three sections of the array, in order: all of the elements less-than-or-equal-to the pivot, the pivot itself, and all of the elements greater than the pivot. We're now very close to the recursive calls to `quicksort()`!\n\nThe index of the pivot is returned by the function call, and assigned to the variable `q`. Of the three sections we now have of the subarray, there is one that does not need to be sorted any further: the pivot! All elements are on the proper sides of it, therefore it is exactly where it belongs.\n\nTherefore, it may be excluded from the following calls to `quicksort()`. We can now call `quicksort(list,p,q-1)`, passing along the indices of the subarray of elements less than the pivot, and `quicksort(list,q+1,r)`, which sorts the subarray of elements greater than the pivot.\n\n### Base Case\nWhen will it end? Simple, when `quicksort()` is called and `p` is not less than `r`. This occurs when they are equal and the function has been called on a single element subarray.\n\n### Run-time\nDespite having a worst-case runtime of O(n<sup>2</sup>), this is only if the pivot for every call is the largest or smallest element. The average runtime is in fact O(nlogn), which is comparable to Heap and Merge."
    },
    {
      "metadata": {},
      "cell_type": "markdown",
      "source": "### Merge Sort\n\nLike Quicksort, merge sort also recursively implements the divide-and-conquer strategy."
    },
    {
      "metadata": {
        "trusted": true
      },
      "cell_type": "code",
      "source": "# MERGE SORT\n\nimport random\nimport sys\n\nlist = random.sample(range(1,9), 8)\n\ndef merge(list, p, q, r):\n    lenA = q - p + 1\n    lenB = r - q\n    A = []\n    B = []\n    for i in range(0, lenA):\n        A.append(list[p + i])\n    for j in range(0, lenB):\n        B.append(list[q + 1 + j])\n    A.append(sys.maxsize)\n    B.append(sys.maxsize)\n    i = 0\n    j = 0\n    for k in range(p, r + 1):\n        if A[i] <= B[j]:\n            list[k] = A[i]\n            i += 1\n        else:\n            list[k] = B[j]\n            j += 1\n\ndef mergesort(list, p, r):\n    if p < r:\n        q = (p + r) // 2\n        mergesort(list, p, q)\n        mergesort(list, q + 1, r)\n        merge(list, p, q, r)\n    \nprint(list)\nmergesort(list, 0, len(list) - 1)\nprint(list)",
      "execution_count": 7,
      "outputs": [
        {
          "output_type": "stream",
          "text": "[4, 7, 3, 2, 6, 8, 1, 5]\n[1, 2, 3, 4, 5, 6, 7, 8]\n",
          "name": "stdout"
        }
      ]
    },
    {
      "metadata": {},
      "cell_type": "markdown",
      "source": "### Data Structures"
    },
    {
      "metadata": {
        "trusted": true
      },
      "cell_type": "code",
      "source": "",
      "execution_count": null,
      "outputs": []
    }
  ],
  "metadata": {
    "kernelspec": {
      "name": "python3",
      "display_name": "Python 3",
      "language": "python"
    },
    "language_info": {
      "mimetype": "text/x-python",
      "nbconvert_exporter": "python",
      "name": "python",
      "pygments_lexer": "ipython3",
      "version": "3.5.4",
      "file_extension": ".py",
      "codemirror_mode": {
        "version": 3,
        "name": "ipython"
      }
    }
  },
  "nbformat": 4,
  "nbformat_minor": 2
}