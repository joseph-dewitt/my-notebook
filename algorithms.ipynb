{
 "cells": [
  {
   "cell_type": "markdown",
   "metadata": {},
   "source": [
    "# Algorithms\n",
    "\n",
    "## Types\n",
    "Sorting  \n",
    "Searching\n",
    "\n",
    "## Data Structures\n",
    "[Stack](#section2)  \n",
    "Queue  \n",
    "List  \n",
    "Linked List  \n",
    "Tree  \n",
    "Matrix  "
   ]
  },
  {
   "cell_type": "markdown",
   "metadata": {},
   "source": [
    "---\n",
    "<a id='searching'></a>\n",
    "## Searching  \n",
    "\n",
    "### Linear  \n",
    "\n"
   ]
  },
  {
   "cell_type": "code",
   "execution_count": 2,
   "metadata": {},
   "outputs": [
    {
     "name": "stdout",
     "output_type": "stream",
     "text": [
      "0\n",
      "1\n",
      "2\n",
      "3\n"
     ]
    }
   ],
   "source": [
    "for i in range(0,4):\n",
    "    print(i)"
   ]
  },
  {
   "cell_type": "markdown",
   "metadata": {},
   "source": [
    "### Binary"
   ]
  },
  {
   "cell_type": "markdown",
   "metadata": {},
   "source": [
    "---\n",
    "<a id='sorting'></a>\n",
    "## Sorting\n",
    "\n",
    "Bubble  \n",
    "Merge  \n",
    "Heapsort  \n",
    "Quicksort  \n",
    "\n",
    "**Quicksort** works via the divide-and-conquer method. It recursively divides the input array and sorts each part. The key to the quicksort is the **pivot**. This can be any element of the subarray, in the written example it's the last of the subarray. With each recursive call, the algorithm uses one particular element to compare all the other elements to, and will simply move the elements less than the pivot to the front of the array. After checking them, it then moves the pivot to the end of that subarray, and calls itself again on the two subarrays on either side of the array."
   ]
  },
  {
   "cell_type": "code",
   "execution_count": 1,
   "metadata": {
    "scrolled": true
   },
   "outputs": [
    {
     "name": "stdout",
     "output_type": "stream",
     "text": [
      "[2, 7, 8, 6, 4, 1, 5, 3]\n",
      "[1, 2, 3, 4, 5, 6, 7, 8]\n"
     ]
    }
   ],
   "source": [
    "# QUICKSORT\n",
    "\n",
    "import random\n",
    "\n",
    "list = random.sample(range(1,9), 8)\n",
    "\n",
    "# I initally thought to write a little swap function to use in this algorithm.\n",
    "def swap(x, y):\n",
    "    x, y = y, x\n",
    "# This doesn't work!\n",
    "# Why? This is because object references are passed by value.\n",
    "# When you reassign a variable in a function, you're reassigning a reference,\n",
    "# not the object that was passed within it.\n",
    "\n",
    "# So, how do we make it work?\n",
    "# Luckily, we're working with a list! That's a mutable object!\n",
    "def swap(list, x, y):\n",
    "    list[x], list[y] = list[y], list[x]\n",
    "\n",
    "def quicksort(list, p, r):\n",
    "    if p<r:\n",
    "        q = partition(list, p, r)\n",
    "        quicksort(list,p,q-1)\n",
    "        quicksort(list,q+1,r)\n",
    "\n",
    "def partition(list,p,r):\n",
    "    i = p - 1\n",
    "    for j in range(p, r):\n",
    "        if (list[j] <= list[r]):\n",
    "            i = i + 1\n",
    "            swap(list, i, j)\n",
    "    swap(list, i+1, r)\n",
    "    return i+1\n",
    "\n",
    "print(list)\n",
    "\n",
    "quicksort(list, 0, len(list)-1)\n",
    "\n",
    "print(list)"
   ]
  },
  {
   "cell_type": "markdown",
   "metadata": {},
   "source": [
    "## How it works\n",
    "\n",
    "**Quicksort** is started by calling `quicksort()` using the `list`, `0`, and `len(list)-1`(the last index, not the length!), as the respective parameters. It begins by checking whether the sarray has only one element, `if p<r:`. After that we get to the real meat-n-potatoes of it when we call `partition()` with the same parameters as `quicksort` was called with.\n",
    "\n",
    "We begin by setting the variable `i` as one less than `p`, and then start a `for` loop, using `j` from `p` to `r`.  \n",
    "`r` is the index of the *pivot* element, which the loop is going to compare all preceding elements to.  \n",
    "`i` denotes the index of the end of the subarray of elements which are *less* than the pivot element.  \n",
    "`p` is the first index of the subarray partition is currently called on.  \n",
    "`j` is the index of the element to be compared to the pivot.\n",
    "\n",
    "In the first line of the `for` loop, we check if `list[j] <= list[r]`, that is, if the current element is less-than-or-equal-to the pivot. If it is, then we increment `i` by one, then swap the current element with the one at `i`.  \n",
    "**Note:** if this is the first pass through the loop, and the element is less than the pivot (`i` is incremented so it's now the same value as `p` and `j`), then the `swap()` essentially does nothing, however `i` is *still* incremented. We didn't move any elements around, but we're still building the subarray of elements less than the pivot!\n",
    "When it reaches an element greater than the pivot, nothing happens, `i` remains where it is, and the loop moves on to the next element. Thus, at the end of each pass through the loop, `i` denotes the last element of a subarray of element(s) less than the pivot.\n",
    "\n",
    "In this fashion, every element that is less than the pivot is moved the the front of the subarray. The last step of `partition()` is to increment `i` one more time, and cap off the subarray with the pivot. We now have three sections of the array, in order: all of the elements less-than-or-equal-to the pivot, the pivot itself, and all of the elements greater than the pivot. We're now very close to the recursive calls to `quicksort()`!\n",
    "\n",
    "The index of the pivot is returned by the function call, and assigned to the variable `q`. Of the three sections we now have of the subarray, there is one that does not need to be sorted any further: the pivot! All elements are on the proper sides of it, therefore it is exactly where it belongs.\n",
    "\n",
    "Therefore, it may be excluded from the following calls to `quicksort()`. We can now call `quicksort(list,p,q-1)`, passing along the indices of the subarray of elements less than the pivot, and `quicksort(list,q+1,r)`, which sorts the subarray of elements greater than the pivot.\n",
    "\n",
    "### Base Case\n",
    "When will it end? Simple, when `quicksort()` is called and `p` is not less than `r`. This occurs when they are equal and the function has been called on a single element subarray.\n",
    "\n",
    "### Run-time\n",
    "Despite having a worst-case runtime of O(n<sup>2</sup>), this is only if the pivot for every call is the largest or smallest element. The average runtime is in fact O(nlogn), which is comparable to Heap and Merge."
   ]
  },
  {
   "cell_type": "markdown",
   "metadata": {},
   "source": [
    "### Data Structures"
   ]
  }
 ],
 "metadata": {
  "kernelspec": {
   "display_name": "Python 3",
   "language": "python",
   "name": "python3"
  },
  "language_info": {
   "codemirror_mode": {
    "name": "ipython",
    "version": 3
   },
   "file_extension": ".py",
   "mimetype": "text/x-python",
   "name": "python",
   "nbconvert_exporter": "python",
   "pygments_lexer": "ipython3",
   "version": "3.7.1"
  }
 },
 "nbformat": 4,
 "nbformat_minor": 2
}
