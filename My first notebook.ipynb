{
 "cells": [
  {
   "cell_type": "markdown",
   "metadata": {},
   "source": [
    "# Learning Python\n",
    " \n",
    "This Jupyter notebook is where I'm going to keep track of everything new that I'm learning in Python and software engineering, everything from design patterns to machine learning.\n",
    "\n",
    "Also along the way I'll learn markdown, which will help to make pretty Readmes."
   ]
  },
  {
   "cell_type": "code",
   "execution_count": 1,
   "metadata": {},
   "outputs": [
    {
     "name": "stdout",
     "output_type": "stream",
     "text": [
      "Design Patterns\n",
      "Machine Learning\n",
      "Algorithms\n",
      "Functional Programming\n",
      "Testing\n"
     ]
    }
   ],
   "source": [
    "topics = ['Design Patterns','Machine Learning','Algorithms','Functional Programming','Testing']\n",
    "\n",
    "for topic in topics:\n",
    "    print(topic)"
   ]
  },
  {
   "cell_type": "markdown",
   "metadata": {},
   "source": [
    "Design Patterns  \n",
    "Machine Learning  \n",
    "[Algorithms](algorithms.ipynb)  "
   ]
  },
  {
   "cell_type": "code",
   "execution_count": null,
   "metadata": {},
   "outputs": [],
   "source": []
  }
 ],
 "metadata": {
  "kernelspec": {
   "display_name": "Python 3",
   "language": "python",
   "name": "python3"
  },
  "language_info": {
   "codemirror_mode": {
    "name": "ipython",
    "version": 3
   },
   "file_extension": ".py",
   "mimetype": "text/x-python",
   "name": "python",
   "nbconvert_exporter": "python",
   "pygments_lexer": "ipython3",
   "version": "3.7.1"
  }
 },
 "nbformat": 4,
 "nbformat_minor": 2
}
